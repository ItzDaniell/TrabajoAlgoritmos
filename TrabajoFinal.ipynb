{
 "cells": [
  {
   "cell_type": "code",
   "execution_count": 9,
   "metadata": {},
   "outputs": [],
   "source": [
    "class Nodo():\n",
    "    def __init__(self, data, izq = None, der=None):\n",
    "        self.data = data\n",
    "        self.izq = izq\n",
    "        self.der = der"
   ]
  },
  {
   "cell_type": "code",
   "execution_count": null,
   "metadata": {},
   "outputs": [],
   "source": []
  },
  {
   "cell_type": "code",
   "execution_count": 10,
   "metadata": {},
   "outputs": [],
   "source": [
    "class Productos:\n",
    "    def __init__(self, id, modelo, marca, , cantidad, precio):\n",
    "        self.id = id\n",
    "        self.nombre = modelo\n",
    "        self.marca = marca\n",
    "        self.stock = cantidad    \n",
    "        self.precio = precio"
   ]
  },
  {
   "cell_type": "code",
   "execution_count": null,
   "metadata": {},
   "outputs": [],
   "source": [
    "class Pedido:\n",
    "    def __init__(self, id, modelo, marca, fecha_entrega, cantidad, precioUni, cliente, direccion_envio):\n",
    "        self.id = id\n",
    "        self.modelo = modelo\n",
    "        self.marca = marca\n",
    "        self.fecha_entrega = fecha_entrega\n",
    "        self.cantidad = cantidad    \n",
    "        self.precioUni = precioUni\n",
    "        self.total = cantidad * precioUni\n",
    "        self.cliente = cliente\n",
    "        self.direccion_envio = direccion_envio \n",
    "\n",
    "    def __str__(self):\n",
    "        return f\"Pedido ID: {self.id} | Cliente: {self.cliente} | Dirección: {self.direccion_envio} | Producto: {self.modelo} - {self.marca} | Fecha entrega: {self.fecha_entrega} | Cantidad: {self.cantidad} | Precio Unitario: ${self.precioUni:.2f} | Total: ${self.total:.2f}\"\n",
    "    \n",
    "    "
   ]
  },
  {
   "cell_type": "code",
   "execution_count": 11,
   "metadata": {},
   "outputs": [],
   "source": [
    "from datetime import datetime\n",
    "\n",
    "class ArbolDeOrdenPedidos:\n",
    "    def __init__(self, raiz=None):\n",
    "        self.raiz = raiz\n",
    "\n",
    "    def insertar(self, pedido):\n",
    "        if self.raiz is None:\n",
    "            self.raiz = Nodo(pedido)\n",
    "        else:\n",
    "            self._insertarR(pedido, self.raiz)\n",
    "            \n",
    "    def _insertarR(self, pedido, rx):\n",
    "        if pedido.fecha_entrega < rx.data.fecha_entrega:\n",
    "            if rx.izq is None:\n",
    "                rx.izq = Nodo(pedido)\n",
    "            else:\n",
    "                self._insertarR(pedido, rx.izq)\n",
    "        elif pedido.fecha_entrega > rx.data.fecha_entrega:\n",
    "            if rx.der is None:\n",
    "                rx.der = Nodo(pedido)\n",
    "            else:\n",
    "                self._insertarR(pedido, rx.der)\n",
    "        else:\n",
    "            pass\n",
    "\n",
    "    def capturar_pedido(self):\n",
    "        id = input(\"Ingrese el ID del pedido: \")\n",
    "        modelo = input(\"Ingrese el modelo del producto: \")\n",
    "        marca = input(\"Ingrese la marca del producto: \")\n",
    "        fecha_entrega = datetime.strptime(input(\"Ingrese la fecha de entrega (YYYY-MM-DD): \"), \"%Y-%m-%d\").date()\n",
    "        cantidad = int(input(\"Ingrese la cantidad: \"))\n",
    "        precioUni = float(input(\"Ingrese el precio unitario: \"))\n",
    "        cliente = input(\"Ingrese el nombre del cliente: \")\n",
    "        direccion_envio = input(\"Ingrese la dirección de envío: \")\n",
    "        return Pedido(id, modelo, marca, fecha_entrega, cantidad, precioUni, cliente, direccion_envio)"
   ]
  },
  {
   "cell_type": "code",
   "execution_count": null,
   "metadata": {},
   "outputs": [],
   "source": [
    "arbol1 = ArbolDeOrdenPedidos()"
   ]
  },
  {
   "cell_type": "code",
   "execution_count": 22,
   "metadata": {},
   "outputs": [],
   "source": [
    "arbol1.insertar(arbol1.capturar_pedido())"
   ]
  },
  {
   "cell_type": "code",
   "execution_count": 25,
   "metadata": {},
   "outputs": [
    {
     "name": "stdout",
     "output_type": "stream",
     "text": [
      "200.0\n"
     ]
    }
   ],
   "source": [
    "print(arbol1.raiz.izq.data.total)"
   ]
  }
 ],
 "metadata": {
  "kernelspec": {
   "display_name": "Python 3",
   "language": "python",
   "name": "python3"
  },
  "language_info": {
   "codemirror_mode": {
    "name": "ipython",
    "version": 3
   },
   "file_extension": ".py",
   "mimetype": "text/x-python",
   "name": "python",
   "nbconvert_exporter": "python",
   "pygments_lexer": "ipython3",
   "version": "3.11.9"
  }
 },
 "nbformat": 4,
 "nbformat_minor": 2
}
