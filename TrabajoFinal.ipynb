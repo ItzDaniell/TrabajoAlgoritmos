{
 "cells": [
  {
   "cell_type": "code",
   "execution_count": 5,
   "metadata": {},
   "outputs": [],
   "source": [
    "class Nodo():\n",
    "    def __init__(self, data, izq = None, der=None):\n",
    "        self.data = data\n",
    "        self.izq = izq\n",
    "        self.der = der"
   ]
  },
  {
   "cell_type": "code",
   "execution_count": null,
   "metadata": {},
   "outputs": [],
   "source": [
    "class Pedido:\n",
    "    def __init__(self, id, modelo, marca, fecha_entrega, cantidad, precioUni, cliente, direccion_envio):\n",
    "        self.id = id\n",
    "        self.modelo = modelo\n",
    "        self.marca = marca\n",
    "        self.fecha_entrega = fecha_entrega\n",
    "        self.cantidad = cantidad    \n",
    "        self.precioUni = precioUni\n",
    "        self.total = cantidad * precioUni\n",
    "        self.cliente = cliente\n",
    "        self.direccion_envio = direccion_envio \n",
    "\n",
    "    def __str__(self):\n",
    "        return f\"Pedido ID: {self.id} | Cliente: {self.cliente} | Dirección: {self.direccion_envio} | Producto: {self.modelo} - {self.marca} | Fecha entrega: {self.fecha_entrega} | Cantidad: {self.cantidad} | Precio Unitario: ${self.precioUni:.2f} | Total: ${self.total:.2f}\""
   ]
  },
  {
   "cell_type": "code",
   "execution_count": 7,
   "metadata": {},
   "outputs": [],
   "source": [
    "from datetime import datetime\n",
    "\n",
    "class Nodo:\n",
    "    def __init__(self, data):\n",
    "        self.data = data\n",
    "        self.izq = None\n",
    "        self.der = None\n",
    "\n",
    "class ArbolDeOrdenPedidos:\n",
    "    def __init__(self, raiz=None):\n",
    "        self.raiz = raiz\n",
    "    \n",
    "    def insertar(self, pedido):\n",
    "        if self.raiz is None:\n",
    "            self.raiz = Nodo(pedido)\n",
    "        else:\n",
    "            self._insertarR(pedido, self.raiz)\n",
    "    \n",
    "    def _insertarR(self, pedido, rx):\n",
    "        if datetime.strptime(pedido.fecha_entrega, '%d-%m-%y') < datetime.strptime(rx.data.fecha_entrega, '%d-%m-%y'):\n",
    "            if rx.izq is None:\n",
    "                rx.izq = Nodo(pedido)\n",
    "            else:\n",
    "                self._insertarR(pedido, rx.izq)\n",
    "        elif datetime.strptime(pedido.fecha_entrega, '%d-%m-%y') > datetime.strptime(rx.data.fecha_entrega, '%d-%m-%y'):\n",
    "            if rx.der is None:\n",
    "                rx.der = Nodo(pedido)\n",
    "            else:\n",
    "                self._insertarR(pedido, rx.der)\n",
    "        else:\n",
    "            pass"
   ]
  },
  {
   "cell_type": "code",
   "execution_count": null,
   "metadata": {},
   "outputs": [],
   "source": [
    "Arbol_Pedidos = ArbolDeOrdenPedidos()\n"
   ]
  }
 ],
 "metadata": {
  "kernelspec": {
   "display_name": "Python 3",
   "language": "python",
   "name": "python3"
  },
  "language_info": {
   "codemirror_mode": {
    "name": "ipython",
    "version": 3
   },
   "file_extension": ".py",
   "mimetype": "text/x-python",
   "name": "python",
   "nbconvert_exporter": "python",
   "pygments_lexer": "ipython3",
   "version": "3.10.11"
  }
 },
 "nbformat": 4,
 "nbformat_minor": 2
}
